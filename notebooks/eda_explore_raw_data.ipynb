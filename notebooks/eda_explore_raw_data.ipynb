{
 "cells": [
  {
   "cell_type": "code",
   "execution_count": 23,
   "metadata": {},
   "outputs": [],
   "source": [
    "import pandas as pd\n",
    "import seaborn as sns\n",
    "import pandas as pd \n",
    "import matplotlib.pyplot as plt\n",
    "\n",
    "import warnings\n",
    "warnings.filterwarnings('ignore')\n",
    "%matplotlib inline"
   ]
  },
  {
   "cell_type": "code",
   "execution_count": 82,
   "metadata": {},
   "outputs": [],
   "source": [
    "bookings_raw = pd.read_csv(\"../data/raw/booking_log.csv\")\n",
    "experiments_raw = pd.read_csv(\"../data/raw/experiment_log.csv\")\n",
    "participants_raw = pd.read_csv(\"../data/raw/participant_log.csv\")\n",
    "test = pd.read_csv(\"../data/raw/test_data.csv\")"
   ]
  },
  {
   "cell_type": "code",
   "execution_count": 83,
   "metadata": {},
   "outputs": [
    {
     "data": {
      "text/html": [
       "<div>\n",
       "<style scoped>\n",
       "    .dataframe tbody tr th:only-of-type {\n",
       "        vertical-align: middle;\n",
       "    }\n",
       "\n",
       "    .dataframe tbody tr th {\n",
       "        vertical-align: top;\n",
       "    }\n",
       "\n",
       "    .dataframe thead th {\n",
       "        text-align: right;\n",
       "    }\n",
       "</style>\n",
       "<table border=\"1\" class=\"dataframe\">\n",
       "  <thead>\n",
       "    <tr style=\"text-align: right;\">\n",
       "      <th></th>\n",
       "      <th>event_timestamp</th>\n",
       "      <th>order_id</th>\n",
       "      <th>booking_status</th>\n",
       "      <th>customer_id</th>\n",
       "      <th>driver_id</th>\n",
       "      <th>trip_distance</th>\n",
       "      <th>pickup_latitude</th>\n",
       "      <th>pickup_longitude</th>\n",
       "    </tr>\n",
       "  </thead>\n",
       "  <tbody>\n",
       "    <tr>\n",
       "      <th>150993</th>\n",
       "      <td>2015-05-12 00:21:29.932 UTC</td>\n",
       "      <td>100004630900</td>\n",
       "      <td>CREATED</td>\n",
       "      <td>407518871636</td>\n",
       "      <td>NaN</td>\n",
       "      <td>1.006</td>\n",
       "      <td>-2.961099</td>\n",
       "      <td>104.783248</td>\n",
       "    </tr>\n",
       "    <tr>\n",
       "      <th>309969</th>\n",
       "      <td>2015-05-12 00:27:09.097 UTC</td>\n",
       "      <td>100004630900</td>\n",
       "      <td>COMPLETED</td>\n",
       "      <td>407518871636</td>\n",
       "      <td>5.760948e+11</td>\n",
       "      <td>1.006</td>\n",
       "      <td>-2.961099</td>\n",
       "      <td>104.783248</td>\n",
       "    </tr>\n",
       "    <tr>\n",
       "      <th>462311</th>\n",
       "      <td>2015-05-12 00:23:40.628 UTC</td>\n",
       "      <td>100004630900</td>\n",
       "      <td>PICKED_UP</td>\n",
       "      <td>407518871636</td>\n",
       "      <td>5.760948e+11</td>\n",
       "      <td>1.006</td>\n",
       "      <td>-2.961099</td>\n",
       "      <td>104.783248</td>\n",
       "    </tr>\n",
       "    <tr>\n",
       "      <th>633198</th>\n",
       "      <td>2015-05-12 00:21:30.885 UTC</td>\n",
       "      <td>100004630900</td>\n",
       "      <td>DRIVER_FOUND</td>\n",
       "      <td>407518871636</td>\n",
       "      <td>5.760948e+11</td>\n",
       "      <td>1.006</td>\n",
       "      <td>-2.961099</td>\n",
       "      <td>104.783248</td>\n",
       "    </tr>\n",
       "  </tbody>\n",
       "</table>\n",
       "</div>"
      ],
      "text/plain": [
       "                    event_timestamp      order_id booking_status  \\\n",
       "150993  2015-05-12 00:21:29.932 UTC  100004630900        CREATED   \n",
       "309969  2015-05-12 00:27:09.097 UTC  100004630900      COMPLETED   \n",
       "462311  2015-05-12 00:23:40.628 UTC  100004630900      PICKED_UP   \n",
       "633198  2015-05-12 00:21:30.885 UTC  100004630900   DRIVER_FOUND   \n",
       "\n",
       "         customer_id     driver_id  trip_distance  pickup_latitude  \\\n",
       "150993  407518871636           NaN          1.006        -2.961099   \n",
       "309969  407518871636  5.760948e+11          1.006        -2.961099   \n",
       "462311  407518871636  5.760948e+11          1.006        -2.961099   \n",
       "633198  407518871636  5.760948e+11          1.006        -2.961099   \n",
       "\n",
       "        pickup_longitude  \n",
       "150993        104.783248  \n",
       "309969        104.783248  \n",
       "462311        104.783248  \n",
       "633198        104.783248  "
      ]
     },
     "execution_count": 83,
     "metadata": {},
     "output_type": "execute_result"
    }
   ],
   "source": [
    "bookings_raw[bookings_raw[\"order_id\"]==100004630900]"
   ]
  },
  {
   "cell_type": "code",
   "execution_count": 7,
   "metadata": {},
   "outputs": [
    {
     "data": {
      "text/html": [
       "<div>\n",
       "<style scoped>\n",
       "    .dataframe tbody tr th:only-of-type {\n",
       "        vertical-align: middle;\n",
       "    }\n",
       "\n",
       "    .dataframe tbody tr th {\n",
       "        vertical-align: top;\n",
       "    }\n",
       "\n",
       "    .dataframe thead th {\n",
       "        text-align: right;\n",
       "    }\n",
       "</style>\n",
       "<table border=\"1\" class=\"dataframe\">\n",
       "  <thead>\n",
       "    <tr style=\"text-align: right;\">\n",
       "      <th></th>\n",
       "      <th>event_timestamp</th>\n",
       "      <th>driver_id</th>\n",
       "      <th>participant_status</th>\n",
       "      <th>order_id</th>\n",
       "      <th>experiment_key</th>\n",
       "      <th>driver_latitude</th>\n",
       "      <th>driver_longitude</th>\n",
       "      <th>driver_gps_accuracy</th>\n",
       "    </tr>\n",
       "  </thead>\n",
       "  <tbody>\n",
       "    <tr>\n",
       "      <th>67603</th>\n",
       "      <td>2015-05-12 00:21:30.198 UTC</td>\n",
       "      <td>576094811632</td>\n",
       "      <td>CREATED</td>\n",
       "      <td>100004630900</td>\n",
       "      <td>729783043745</td>\n",
       "      <td>-2.960315</td>\n",
       "      <td>104.783728</td>\n",
       "      <td>7.0</td>\n",
       "    </tr>\n",
       "    <tr>\n",
       "      <th>67604</th>\n",
       "      <td>2015-05-12 00:21:30.83 UTC</td>\n",
       "      <td>576094811632</td>\n",
       "      <td>ACCEPTED</td>\n",
       "      <td>100004630900</td>\n",
       "      <td>729783043745</td>\n",
       "      <td>-2.960315</td>\n",
       "      <td>104.783728</td>\n",
       "      <td>7.0</td>\n",
       "    </tr>\n",
       "  </tbody>\n",
       "</table>\n",
       "</div>"
      ],
      "text/plain": [
       "                   event_timestamp     driver_id participant_status  \\\n",
       "67603  2015-05-12 00:21:30.198 UTC  576094811632            CREATED   \n",
       "67604   2015-05-12 00:21:30.83 UTC  576094811632           ACCEPTED   \n",
       "\n",
       "           order_id  experiment_key  driver_latitude  driver_longitude  \\\n",
       "67603  100004630900    729783043745        -2.960315        104.783728   \n",
       "67604  100004630900    729783043745        -2.960315        104.783728   \n",
       "\n",
       "       driver_gps_accuracy  \n",
       "67603                  7.0  \n",
       "67604                  7.0  "
      ]
     },
     "execution_count": 7,
     "metadata": {},
     "output_type": "execute_result"
    }
   ],
   "source": [
    "participants_raw[participants_raw[\"order_id\"]==100004630900]\n"
   ]
  },
  {
   "cell_type": "code",
   "execution_count": 33,
   "metadata": {},
   "outputs": [
    {
     "name": "stdout",
     "output_type": "stream",
     "text": [
      "event_timestamp      object\n",
      "order_id              int64\n",
      "booking_status       object\n",
      "customer_id           int64\n",
      "driver_id           float64\n",
      "trip_distance       float64\n",
      "pickup_latitude     float64\n",
      "pickup_longitude    float64\n",
      "dtype: object\n"
     ]
    }
   ],
   "source": [
    "# Booking conversion rate\n",
    "print (bookings_raw.dtypes)"
   ]
  },
  {
   "cell_type": "code",
   "execution_count": 84,
   "metadata": {},
   "outputs": [
    {
     "data": {
      "text/plain": [
       "<matplotlib.axes._subplots.AxesSubplot at 0x160150080>"
      ]
     },
     "execution_count": 84,
     "metadata": {},
     "output_type": "execute_result"
    },
    {
     "data": {
      "image/png": "[encoded data removed]",
      "text/plain": [
       "<Figure size 432x288 with 1 Axes>"
      ]
     },
     "metadata": {
      "needs_background": "light"
     },
     "output_type": "display_data"
    }
   ],
   "source": [
    "sns.heatmap(bookings_raw.isnull(), yticklabels = False, cbar = False, cmap = 'viridis')"
   ]
  },
  {
   "cell_type": "code",
   "execution_count": 25,
   "metadata": {},
   "outputs": [
    {
     "data": {
      "text/plain": [
       "<matplotlib.axes._subplots.AxesSubplot at 0x161742278>"
      ]
     },
     "execution_count": 25,
     "metadata": {},
     "output_type": "execute_result"
    },
    {
     "data": {
      "image/png": "[encoded data removed]",
      "text/plain": [
       "<Figure size 432x288 with 1 Axes>"
      ]
     },
     "metadata": {
      "needs_background": "light"
     },
     "output_type": "display_data"
    }
   ],
   "source": [
    "sns.heatmap(participants_raw.isnull(), yticklabels = False, cbar = False, cmap = 'viridis')"
   ]
  },
  {
   "cell_type": "code",
   "execution_count": 85,
   "metadata": {},
   "outputs": [
    {
     "name": "stdout",
     "output_type": "stream",
     "text": [
      "--bookings_null_values--\n",
      "event_timestamp         92\n",
      "order_id                 0\n",
      "booking_status           0\n",
      "customer_id              0\n",
      "driver_id           193710\n",
      "trip_distance            0\n",
      "pickup_latitude          0\n",
      "pickup_longitude         0\n",
      "dtype: int64\n",
      "--participants_null_values--\n",
      "event_timestamp        0\n",
      "driver_id              0\n",
      "participant_status     0\n",
      "order_id               0\n",
      "experiment_key         0\n",
      "driver_latitude        0\n",
      "driver_longitude       0\n",
      "driver_gps_accuracy    0\n",
      "dtype: int64\n"
     ]
    }
   ],
   "source": [
    "print ('--bookings_null_values--')\n",
    "\n",
    "print (bookings_raw.isnull().sum()) \n",
    "\n",
    "print ('--participants_null_values--')\n",
    "\n",
    "print (participants_raw.isnull().sum())\n"
   ]
  },
  {
   "cell_type": "code",
   "execution_count": 86,
   "metadata": {},
   "outputs": [
    {
     "data": {
      "text/plain": [
       "array(['DRIVER_CANCELLED', 'CUSTOMER_CANCELLED'], dtype=object)"
      ]
     },
     "execution_count": 86,
     "metadata": {},
     "output_type": "execute_result"
    }
   ],
   "source": [
    "bookings_raw[bookings_raw[\"event_timestamp\"].isnull()][\"booking_status\"].unique()\n"
   ]
  },
  {
   "cell_type": "code",
   "execution_count": 87,
   "metadata": {},
   "outputs": [
    {
     "data": {
      "text/plain": [
       "array(['DRIVER_NOT_FOUND', 'DRIVER_CANCELLED', 'CREATED', 'COMPLETED',\n",
       "       'PICKED_UP', 'DRIVER_FOUND', 'CUSTOMER_CANCELLED'], dtype=object)"
      ]
     },
     "execution_count": 87,
     "metadata": {},
     "output_type": "execute_result"
    }
   ],
   "source": [
    "bookings_raw['booking_status'].unique()"
   ]
  },
  {
   "cell_type": "markdown",
   "metadata": {},
   "source": [
    "# Bookings exploratory"
   ]
  },
  {
   "cell_type": "code",
   "execution_count": 88,
   "metadata": {},
   "outputs": [],
   "source": [
    "bookings_raw[[\"day\", \"time\", \"utc\"]] = bookings_raw.event_timestamp.str.split(expand=True)\n",
    "bookings_raw.drop([\"utc\"], axis = 1, inplace = True)\n",
    "bookings_raw[\"timestamp\"] = bookings_raw[[\"day\", \"time\"]].astype(str).apply(lambda x: ' '.join(x), axis = 1)\n",
    "bookings_raw[\"timestamp\"] = pd.to_datetime(bookings_raw[\"timestamp\"], errors = 'coerce')\n",
    "bookings_raw = bookings_raw[bookings_raw['timestamp'].notnull()]\n"
   ]
  },
  {
   "cell_type": "code",
   "execution_count": 45,
   "metadata": {},
   "outputs": [],
   "source": [
    "def _compute_freq_cluster(df):\n",
    "    group_freq = '60min'\n",
    "    df['pickup_datetime_group'] = df['timestamp'].dt.round(group_freq)\n",
    "    return df"
   ]
  },
  {
   "cell_type": "code",
   "execution_count": 56,
   "metadata": {},
   "outputs": [],
   "source": [
    "def temporal_features(df):\n",
    "    df['weekday'] = df['timestamp'].dt.weekday\n",
    "    df['hour_weekofyear'] = df['timestamp'].dt.weekofyear\n",
    "    df['chour'] = df['timestamp'].dt.hour\n",
    "    return df"
   ]
  },
  {
   "cell_type": "code",
   "execution_count": 57,
   "metadata": {},
   "outputs": [],
   "source": [
    "bookings_raw = _compute_freq_cluster(bookings_raw)\n",
    "bookings_raw = temporal_features(bookings_raw)"
   ]
  },
  {
   "cell_type": "code",
   "execution_count": 49,
   "metadata": {},
   "outputs": [
    {
     "name": "stdout",
     "output_type": "stream",
     "text": [
      "2015-05-19 00:18:25.721540\n",
      "2015-05-10 00:00:06.456000\n"
     ]
    }
   ],
   "source": [
    "print (bookings_raw['timestamp'].max()) \n",
    "print (bookings_raw['timestamp'].min())"
   ]
  },
  {
   "cell_type": "code",
   "execution_count": 47,
   "metadata": {},
   "outputs": [
    {
     "data": {
      "text/plain": [
       "<matplotlib.axes._subplots.AxesSubplot at 0x13434f7f0>"
      ]
     },
     "execution_count": 47,
     "metadata": {},
     "output_type": "execute_result"
    },
    {
     "data": {
      "image/png": "[encoded data removed]",
      "text/plain": [
       "<Figure size 432x288 with 1 Axes>"
      ]
     },
     "metadata": {
      "needs_background": "light"
     },
     "output_type": "display_data"
    }
   ],
   "source": [
    "bookings_raw.groupby('pickup_datetime_group').count().unstack()['order_id'].plot(kind = 'line', marker = 'o')"
   ]
  },
  {
   "cell_type": "code",
   "execution_count": 67,
   "metadata": {},
   "outputs": [
    {
     "data": {
      "text/plain": [
       "<matplotlib.axes._subplots.AxesSubplot at 0x16513b9e8>"
      ]
     },
     "execution_count": 67,
     "metadata": {},
     "output_type": "execute_result"
    },
    {
     "data": {
      "image/png": "[encoded data removed]",
      "text/plain": [
       "<Figure size 1728x864 with 1 Axes>"
      ]
     },
     "metadata": {
      "needs_background": "light"
     },
     "output_type": "display_data"
    }
   ],
   "source": [
    "fig, ax = plt.subplots(figsize=(24, 12))\n",
    "\n",
    "bookings_raw[bookings_raw['booking_status'] == 'CREATED']\\\n",
    ".groupby('weekday').count().unstack()['order_id'].plot(kind = 'line', ax=ax, marker = 'o')"
   ]
  },
  {
   "cell_type": "code",
   "execution_count": 69,
   "metadata": {},
   "outputs": [
    {
     "data": {
      "text/plain": [
       "<matplotlib.axes._subplots.AxesSubplot at 0x1621e5a58>"
      ]
     },
     "execution_count": 69,
     "metadata": {},
     "output_type": "execute_result"
    },
    {
     "data": {
      "image/png": "[encoded data removed]",
      "text/plain": [
       "<Figure size 1728x864 with 1 Axes>"
      ]
     },
     "metadata": {
      "needs_background": "light"
     },
     "output_type": "display_data"
    }
   ],
   "source": [
    "fig, ax = plt.subplots(figsize=(24, 12))\n",
    "\n",
    "bookings_raw.groupby(['weekday', 'booking_status']).count().unstack()['order_id'].plot(kind = 'line', ax=ax, marker = 'o')"
   ]
  },
  {
   "cell_type": "code",
   "execution_count": 37,
   "metadata": {},
   "outputs": [],
   "source": [
    "data = bookings_raw[bookings_raw['booking_status'] == 'DRIVER_CANCELLED']"
   ]
  },
  {
   "cell_type": "code",
   "execution_count": 38,
   "metadata": {},
   "outputs": [
    {
     "data": {
      "image/png": "[encoded data removed]",
      "text/plain": [
       "<Figure size 432x432 with 3 Axes>"
      ]
     },
     "metadata": {
      "needs_background": "light"
     },
     "output_type": "display_data"
    }
   ],
   "source": [
    "g = sns.jointplot(x=\"pickup_longitude\", y=\"pickup_latitude\", data=data, kind=\"kde\", color=\"m\")\n",
    "g.plot_joint(plt.scatter, c=\"w\", s=3, linewidth=0.5, marker=\"+\")\n",
    "g.ax_joint.collections[0].set_alpha(0)\n",
    "g.set_axis_labels(\"$Longitude$\", \"$Latitude$\");\n",
    "plt.show()"
   ]
  },
  {
   "cell_type": "code",
   "execution_count": 70,
   "metadata": {},
   "outputs": [],
   "source": [
    "experiment_tag_dict = dict(zip(experiments_raw.order_id, experiments_raw.experiment_tag))"
   ]
  },
  {
   "cell_type": "code",
   "execution_count": 71,
   "metadata": {},
   "outputs": [],
   "source": [
    "participants_raw['experiment_tag'] = participants_raw['order_id'].map(experiment_tag_dict)"
   ]
  },
  {
   "cell_type": "code",
   "execution_count": 72,
   "metadata": {},
   "outputs": [
    {
     "data": {
      "text/html": [
       "<div>\n",
       "<style scoped>\n",
       "    .dataframe tbody tr th:only-of-type {\n",
       "        vertical-align: middle;\n",
       "    }\n",
       "\n",
       "    .dataframe tbody tr th {\n",
       "        vertical-align: top;\n",
       "    }\n",
       "\n",
       "    .dataframe thead th {\n",
       "        text-align: right;\n",
       "    }\n",
       "</style>\n",
       "<table border=\"1\" class=\"dataframe\">\n",
       "  <thead>\n",
       "    <tr style=\"text-align: right;\">\n",
       "      <th></th>\n",
       "      <th>event_timestamp</th>\n",
       "      <th>driver_id</th>\n",
       "      <th>participant_status</th>\n",
       "      <th>order_id</th>\n",
       "      <th>experiment_key</th>\n",
       "      <th>driver_latitude</th>\n",
       "      <th>driver_longitude</th>\n",
       "      <th>driver_gps_accuracy</th>\n",
       "      <th>experiment_tag</th>\n",
       "    </tr>\n",
       "  </thead>\n",
       "  <tbody>\n",
       "    <tr>\n",
       "      <th>0</th>\n",
       "      <td>2015-05-18 11:45:19.519 UTC</td>\n",
       "      <td>110283102582</td>\n",
       "      <td>CREATED</td>\n",
       "      <td>938125906616</td>\n",
       "      <td>309579604593</td>\n",
       "      <td>-2.981389</td>\n",
       "      <td>104.761898</td>\n",
       "      <td>2.0</td>\n",
       "      <td>B</td>\n",
       "    </tr>\n",
       "    <tr>\n",
       "      <th>1</th>\n",
       "      <td>2015-05-18 11:45:29.8 UTC</td>\n",
       "      <td>110283102582</td>\n",
       "      <td>ACCEPTED</td>\n",
       "      <td>938125906616</td>\n",
       "      <td>309579604593</td>\n",
       "      <td>-2.981389</td>\n",
       "      <td>104.761898</td>\n",
       "      <td>2.0</td>\n",
       "      <td>B</td>\n",
       "    </tr>\n",
       "    <tr>\n",
       "      <th>2</th>\n",
       "      <td>2015-05-11 10:35:57.021 UTC</td>\n",
       "      <td>126346998414</td>\n",
       "      <td>CREATED</td>\n",
       "      <td>992080359113</td>\n",
       "      <td>941995970460</td>\n",
       "      <td>-2.966915</td>\n",
       "      <td>104.748040</td>\n",
       "      <td>2.0</td>\n",
       "      <td>A</td>\n",
       "    </tr>\n",
       "    <tr>\n",
       "      <th>3</th>\n",
       "      <td>2015-05-11 10:36:01.148 UTC</td>\n",
       "      <td>126346998414</td>\n",
       "      <td>ACCEPTED</td>\n",
       "      <td>992080359113</td>\n",
       "      <td>941995970460</td>\n",
       "      <td>-2.966915</td>\n",
       "      <td>104.748040</td>\n",
       "      <td>2.0</td>\n",
       "      <td>A</td>\n",
       "    </tr>\n",
       "    <tr>\n",
       "      <th>4</th>\n",
       "      <td>2015-05-16 12:34:20.044 UTC</td>\n",
       "      <td>199325048812</td>\n",
       "      <td>ACCEPTED</td>\n",
       "      <td>797723880713</td>\n",
       "      <td>197604093364</td>\n",
       "      <td>-3.014740</td>\n",
       "      <td>104.694647</td>\n",
       "      <td>2.0</td>\n",
       "      <td>B</td>\n",
       "    </tr>\n",
       "  </tbody>\n",
       "</table>\n",
       "</div>"
      ],
      "text/plain": [
       "               event_timestamp     driver_id participant_status      order_id  \\\n",
       "0  2015-05-18 11:45:19.519 UTC  110283102582            CREATED  938125906616   \n",
       "1    2015-05-18 11:45:29.8 UTC  110283102582           ACCEPTED  938125906616   \n",
       "2  2015-05-11 10:35:57.021 UTC  126346998414            CREATED  992080359113   \n",
       "3  2015-05-11 10:36:01.148 UTC  126346998414           ACCEPTED  992080359113   \n",
       "4  2015-05-16 12:34:20.044 UTC  199325048812           ACCEPTED  797723880713   \n",
       "\n",
       "   experiment_key  driver_latitude  driver_longitude  driver_gps_accuracy  \\\n",
       "0    309579604593        -2.981389        104.761898                  2.0   \n",
       "1    309579604593        -2.981389        104.761898                  2.0   \n",
       "2    941995970460        -2.966915        104.748040                  2.0   \n",
       "3    941995970460        -2.966915        104.748040                  2.0   \n",
       "4    197604093364        -3.014740        104.694647                  2.0   \n",
       "\n",
       "  experiment_tag  \n",
       "0              B  \n",
       "1              B  \n",
       "2              A  \n",
       "3              A  \n",
       "4              B  "
      ]
     },
     "execution_count": 72,
     "metadata": {},
     "output_type": "execute_result"
    }
   ],
   "source": [
    "participants_raw.head()"
   ]
  },
  {
   "cell_type": "code",
   "execution_count": null,
   "metadata": {},
   "outputs": [],
   "source": [
    "\n"
   ]
  },
  {
   "cell_type": "markdown",
   "metadata": {},
   "source": [
    "# Data Cleaning"
   ]
  },
  {
   "cell_type": "code",
   "execution_count": 89,
   "metadata": {},
   "outputs": [],
   "source": [
    "list_of_booking_status = []\n",
    "for x, y in bookings_raw.groupby(\"order_id\"):\n",
    "    list_of_booking_status.append(y['booking_status'].values)"
   ]
  },
  {
   "cell_type": "code",
   "execution_count": 90,
   "metadata": {},
   "outputs": [],
   "source": [
    "combinations_ = [list(i) for i in set(tuple(i) for i in list_of_booking_status)]"
   ]
  },
  {
   "cell_type": "code",
   "execution_count": 91,
   "metadata": {},
   "outputs": [
    {
     "data": {
      "text/plain": [
       "[['DRIVER_CANCELLED', 'CREATED', 'PICKED_UP', 'DRIVER_FOUND'],\n",
       " ['CUSTOMER_CANCELLED'],\n",
       " ['CREATED', 'CUSTOMER_CANCELLED'],\n",
       " ['CREATED', 'COMPLETED', 'DRIVER_FOUND'],\n",
       " ['DRIVER_CANCELLED'],\n",
       " ['CREATED', 'PICKED_UP', 'DRIVER_FOUND'],\n",
       " ['DRIVER_NOT_FOUND', 'CREATED'],\n",
       " ['CREATED', 'PICKED_UP', 'DRIVER_FOUND', 'CUSTOMER_CANCELLED'],\n",
       " ['CREATED', 'DRIVER_FOUND'],\n",
       " ['CREATED', 'COMPLETED'],\n",
       " ['CREATED'],\n",
       " ['DRIVER_CANCELLED', 'CREATED', 'DRIVER_FOUND'],\n",
       " ['CREATED', 'COMPLETED', 'COMPLETED', 'PICKED_UP', 'DRIVER_FOUND'],\n",
       " ['CREATED', 'DRIVER_FOUND', 'CUSTOMER_CANCELLED'],\n",
       " ['PICKED_UP', 'CUSTOMER_CANCELLED'],\n",
       " ['COMPLETED', 'PICKED_UP', 'DRIVER_FOUND'],\n",
       " ['CREATED', 'COMPLETED', 'PICKED_UP', 'DRIVER_FOUND'],\n",
       " ['DRIVER_CANCELLED', 'PICKED_UP']]"
      ]
     },
     "execution_count": 91,
     "metadata": {},
     "output_type": "execute_result"
    }
   ],
   "source": [
    "combinations_"
   ]
  },
  {
   "cell_type": "code",
   "execution_count": 92,
   "metadata": {},
   "outputs": [],
   "source": [
    "from collections import Counter\n",
    "count = Counter(map(tuple, list_of_booking_status))\n"
   ]
  },
  {
   "cell_type": "code",
   "execution_count": 202,
   "metadata": {},
   "outputs": [
    {
     "data": {
      "text/plain": [
       "{('COMPLETED', 'PICKED_UP', 'DRIVER_FOUND'): 1,\n",
       " ('CREATED',): 134,\n",
       " ('CREATED', 'COMPLETED'): 1951,\n",
       " ('CREATED', 'COMPLETED', 'DRIVER_FOUND'): 14683,\n",
       " ('CREATED', 'COMPLETED', 'PICKED_UP', 'DRIVER_FOUND'): 135396,\n",
       " ('CREATED', 'CUSTOMER_CANCELLED'): 5736,\n",
       " ('CREATED', 'DRIVER_FOUND'): 1074,\n",
       " ('CREATED', 'DRIVER_FOUND', 'CUSTOMER_CANCELLED'): 6974,\n",
       " ('CREATED', 'PICKED_UP', 'DRIVER_FOUND'): 259,\n",
       " ('CREATED', 'PICKED_UP', 'DRIVER_FOUND', 'CUSTOMER_CANCELLED'): 15938,\n",
       " ('CUSTOMER_CANCELLED',): 92,\n",
       " ('DRIVER_CANCELLED',): 6,\n",
       " ('DRIVER_CANCELLED', 'CREATED', 'DRIVER_FOUND'): 463,\n",
       " ('DRIVER_CANCELLED', 'CREATED', 'PICKED_UP', 'DRIVER_FOUND'): 841,\n",
       " ('DRIVER_CANCELLED', 'PICKED_UP'): 4,\n",
       " ('DRIVER_NOT_FOUND', 'CREATED'): 2262,\n",
       " ('PICKED_UP', 'CUSTOMER_CANCELLED'): 53}"
      ]
     },
     "execution_count": 202,
     "metadata": {},
     "output_type": "execute_result"
    }
   ],
   "source": [
    "dict(count)\n"
   ]
  },
  {
   "cell_type": "code",
   "execution_count": 93,
   "metadata": {},
   "outputs": [],
   "source": [
    "error_booking_status = {('DRIVER_CANCELLED', 'PICKED_UP'): 4,\n",
    "                        ('COMPLETED', 'PICKED_UP', 'DRIVER_FOUND'): 1,\n",
    "                        ('CREATED', 'DRIVER_FOUND'): 1074,\n",
    "                        ('PICKED_UP', 'CUSTOMER_CANCELLED'): 53,\n",
    "                        ('CREATED', 'COMPLETED'): 1951,\n",
    "                        ('CREATED',): 134,\n",
    "                        ('CREATED', 'COMPLETED', 'DRIVER_FOUND'): 14683,\n",
    "                        ('CREATED', 'PICKED_UP', 'DRIVER_FOUND'): 259,\n",
    "                        ('DRIVER_CANCELLED',): 6,\n",
    "                        ('DRIVER_CANCELLED', 'CREATED', 'PICKED_UP', 'DRIVER_FOUND'): 841,\n",
    "                        ('DRIVER_CANCELLED', 'PICKED_UP'): 4,\n",
    "                        ('CUSTOMER_CANCELLED',): 92,\n",
    "                       }\n",
    "                              "
   ]
  },
  {
   "cell_type": "code",
   "execution_count": 94,
   "metadata": {},
   "outputs": [
    {
     "name": "stdout",
     "output_type": "stream",
     "text": [
      "('CREATED', 'COMPLETED', 'PICKED_UP', 'DRIVER_FOUND')\n",
      "('CREATED', 'CUSTOMER_CANCELLED')\n",
      "('CREATED', 'PICKED_UP', 'DRIVER_FOUND', 'CUSTOMER_CANCELLED')\n",
      "('CREATED', 'DRIVER_FOUND', 'CUSTOMER_CANCELLED')\n",
      "('DRIVER_NOT_FOUND', 'CREATED')\n",
      "('DRIVER_CANCELLED', 'CREATED', 'DRIVER_FOUND')\n",
      "('CREATED', 'COMPLETED', 'COMPLETED', 'PICKED_UP', 'DRIVER_FOUND')\n"
     ]
    }
   ],
   "source": [
    "for key, value in count.items():\n",
    "    if key not in error_booking_status.keys():\n",
    "        print (key)"
   ]
  },
  {
   "cell_type": "code",
   "execution_count": 340,
   "metadata": {},
   "outputs": [
    {
     "data": {
      "text/plain": [
       "14913"
      ]
     },
     "execution_count": 340,
     "metadata": {},
     "output_type": "execute_result"
    }
   ],
   "source": [
    "len(participants_raw.driver_id.unique())\n"
   ]
  },
  {
   "cell_type": "code",
   "execution_count": 353,
   "metadata": {},
   "outputs": [
    {
     "data": {
      "text/html": [
       "<div>\n",
       "<style scoped>\n",
       "    .dataframe tbody tr th:only-of-type {\n",
       "        vertical-align: middle;\n",
       "    }\n",
       "\n",
       "    .dataframe tbody tr th {\n",
       "        vertical-align: top;\n",
       "    }\n",
       "\n",
       "    .dataframe thead th {\n",
       "        text-align: right;\n",
       "    }\n",
       "</style>\n",
       "<table border=\"1\" class=\"dataframe\">\n",
       "  <thead>\n",
       "    <tr style=\"text-align: right;\">\n",
       "      <th></th>\n",
       "      <th>event_timestamp</th>\n",
       "      <th>order_id</th>\n",
       "      <th>booking_status</th>\n",
       "      <th>customer_id</th>\n",
       "      <th>driver_id</th>\n",
       "      <th>trip_distance</th>\n",
       "      <th>pickup_latitude</th>\n",
       "      <th>pickup_longitude</th>\n",
       "      <th>day</th>\n",
       "      <th>time</th>\n",
       "      <th>timestamp</th>\n",
       "      <th>diff</th>\n",
       "    </tr>\n",
       "  </thead>\n",
       "  <tbody>\n",
       "    <tr>\n",
       "      <th>151243</th>\n",
       "      <td>2015-05-12 00:21:29.932 UTC</td>\n",
       "      <td>100004630900</td>\n",
       "      <td>CREATED</td>\n",
       "      <td>407518871636</td>\n",
       "      <td>NaN</td>\n",
       "      <td>1.006</td>\n",
       "      <td>-2.961099</td>\n",
       "      <td>104.783248</td>\n",
       "      <td>2015-05-12</td>\n",
       "      <td>00:21:29.932</td>\n",
       "      <td>2015-05-12 00:21:29.932</td>\n",
       "      <td>NaT</td>\n",
       "    </tr>\n",
       "    <tr>\n",
       "      <th>310294</th>\n",
       "      <td>2015-05-12 00:27:09.097 UTC</td>\n",
       "      <td>100004630900</td>\n",
       "      <td>COMPLETED</td>\n",
       "      <td>407518871636</td>\n",
       "      <td>5.760948e+11</td>\n",
       "      <td>1.006</td>\n",
       "      <td>-2.961099</td>\n",
       "      <td>104.783248</td>\n",
       "      <td>2015-05-12</td>\n",
       "      <td>00:27:09.097</td>\n",
       "      <td>2015-05-12 00:27:09.097</td>\n",
       "      <td>00:03:28.469000</td>\n",
       "    </tr>\n",
       "    <tr>\n",
       "      <th>462877</th>\n",
       "      <td>2015-05-12 00:23:40.628 UTC</td>\n",
       "      <td>100004630900</td>\n",
       "      <td>PICKED_UP</td>\n",
       "      <td>407518871636</td>\n",
       "      <td>5.760948e+11</td>\n",
       "      <td>1.006</td>\n",
       "      <td>-2.961099</td>\n",
       "      <td>104.783248</td>\n",
       "      <td>2015-05-12</td>\n",
       "      <td>00:23:40.628</td>\n",
       "      <td>2015-05-12 00:23:40.628</td>\n",
       "      <td>00:02:09.743000</td>\n",
       "    </tr>\n",
       "    <tr>\n",
       "      <th>634106</th>\n",
       "      <td>2015-05-12 00:21:30.885 UTC</td>\n",
       "      <td>100004630900</td>\n",
       "      <td>DRIVER_FOUND</td>\n",
       "      <td>407518871636</td>\n",
       "      <td>5.760948e+11</td>\n",
       "      <td>1.006</td>\n",
       "      <td>-2.961099</td>\n",
       "      <td>104.783248</td>\n",
       "      <td>2015-05-12</td>\n",
       "      <td>00:21:30.885</td>\n",
       "      <td>2015-05-12 00:21:30.885</td>\n",
       "      <td>00:00:00.953000</td>\n",
       "    </tr>\n",
       "  </tbody>\n",
       "</table>\n",
       "</div>"
      ],
      "text/plain": [
       "                    event_timestamp      order_id booking_status  \\\n",
       "151243  2015-05-12 00:21:29.932 UTC  100004630900        CREATED   \n",
       "310294  2015-05-12 00:27:09.097 UTC  100004630900      COMPLETED   \n",
       "462877  2015-05-12 00:23:40.628 UTC  100004630900      PICKED_UP   \n",
       "634106  2015-05-12 00:21:30.885 UTC  100004630900   DRIVER_FOUND   \n",
       "\n",
       "         customer_id     driver_id  trip_distance  pickup_latitude  \\\n",
       "151243  407518871636           NaN          1.006        -2.961099   \n",
       "310294  407518871636  5.760948e+11          1.006        -2.961099   \n",
       "462877  407518871636  5.760948e+11          1.006        -2.961099   \n",
       "634106  407518871636  5.760948e+11          1.006        -2.961099   \n",
       "\n",
       "        pickup_longitude         day          time               timestamp  \\\n",
       "151243        104.783248  2015-05-12  00:21:29.932 2015-05-12 00:21:29.932   \n",
       "310294        104.783248  2015-05-12  00:27:09.097 2015-05-12 00:27:09.097   \n",
       "462877        104.783248  2015-05-12  00:23:40.628 2015-05-12 00:23:40.628   \n",
       "634106        104.783248  2015-05-12  00:21:30.885 2015-05-12 00:21:30.885   \n",
       "\n",
       "                  diff  \n",
       "151243             NaT  \n",
       "310294 00:03:28.469000  \n",
       "462877 00:02:09.743000  \n",
       "634106 00:00:00.953000  "
      ]
     },
     "execution_count": 353,
     "metadata": {},
     "output_type": "execute_result"
    }
   ],
   "source": [
    "bookings_raw[bookings_raw[\"order_id\"]==100004630900]"
   ]
  },
  {
   "cell_type": "code",
   "execution_count": 95,
   "metadata": {},
   "outputs": [
    {
     "data": {
      "text/html": [
       "<div>\n",
       "<style scoped>\n",
       "    .dataframe tbody tr th:only-of-type {\n",
       "        vertical-align: middle;\n",
       "    }\n",
       "\n",
       "    .dataframe tbody tr th {\n",
       "        vertical-align: top;\n",
       "    }\n",
       "\n",
       "    .dataframe thead th {\n",
       "        text-align: right;\n",
       "    }\n",
       "</style>\n",
       "<table border=\"1\" class=\"dataframe\">\n",
       "  <thead>\n",
       "    <tr style=\"text-align: right;\">\n",
       "      <th></th>\n",
       "      <th>event_timestamp_x</th>\n",
       "      <th>driver_id_x</th>\n",
       "      <th>participant_status</th>\n",
       "      <th>order_id</th>\n",
       "      <th>experiment_key</th>\n",
       "      <th>driver_latitude</th>\n",
       "      <th>driver_longitude</th>\n",
       "      <th>driver_gps_accuracy</th>\n",
       "      <th>event_timestamp_y</th>\n",
       "      <th>booking_status</th>\n",
       "      <th>customer_id</th>\n",
       "      <th>driver_id_y</th>\n",
       "      <th>trip_distance</th>\n",
       "      <th>pickup_latitude</th>\n",
       "      <th>pickup_longitude</th>\n",
       "      <th>day</th>\n",
       "      <th>time</th>\n",
       "      <th>timestamp</th>\n",
       "    </tr>\n",
       "  </thead>\n",
       "  <tbody>\n",
       "    <tr>\n",
       "      <th>0</th>\n",
       "      <td>2015-05-18 11:45:29.8 UTC</td>\n",
       "      <td>110283102582</td>\n",
       "      <td>ACCEPTED</td>\n",
       "      <td>938125906616</td>\n",
       "      <td>309579604593</td>\n",
       "      <td>-2.981389</td>\n",
       "      <td>104.761898</td>\n",
       "      <td>2.000</td>\n",
       "      <td>2015-05-18 11:45:03.958 UTC</td>\n",
       "      <td>CREATED</td>\n",
       "      <td>786955815516</td>\n",
       "      <td>NaN</td>\n",
       "      <td>5.601</td>\n",
       "      <td>-2.980337</td>\n",
       "      <td>104.761200</td>\n",
       "      <td>2015-05-18</td>\n",
       "      <td>11:45:03.958</td>\n",
       "      <td>2015-05-18 11:45:03.958</td>\n",
       "    </tr>\n",
       "    <tr>\n",
       "      <th>1</th>\n",
       "      <td>2015-05-18 11:45:29.8 UTC</td>\n",
       "      <td>110283102582</td>\n",
       "      <td>ACCEPTED</td>\n",
       "      <td>938125906616</td>\n",
       "      <td>309579604593</td>\n",
       "      <td>-2.981389</td>\n",
       "      <td>104.761898</td>\n",
       "      <td>2.000</td>\n",
       "      <td>2015-05-18 11:45:30.076 UTC</td>\n",
       "      <td>DRIVER_FOUND</td>\n",
       "      <td>786955815516</td>\n",
       "      <td>1.102831e+11</td>\n",
       "      <td>5.601</td>\n",
       "      <td>-2.980337</td>\n",
       "      <td>104.761200</td>\n",
       "      <td>2015-05-18</td>\n",
       "      <td>11:45:30.076</td>\n",
       "      <td>2015-05-18 11:45:30.076</td>\n",
       "    </tr>\n",
       "    <tr>\n",
       "      <th>2</th>\n",
       "      <td>2015-05-18 11:45:29.8 UTC</td>\n",
       "      <td>110283102582</td>\n",
       "      <td>ACCEPTED</td>\n",
       "      <td>938125906616</td>\n",
       "      <td>309579604593</td>\n",
       "      <td>-2.981389</td>\n",
       "      <td>104.761898</td>\n",
       "      <td>2.000</td>\n",
       "      <td>2015-05-18 11:52:13.997 UTC</td>\n",
       "      <td>CUSTOMER_CANCELLED</td>\n",
       "      <td>786955815516</td>\n",
       "      <td>1.102831e+11</td>\n",
       "      <td>5.601</td>\n",
       "      <td>-2.980337</td>\n",
       "      <td>104.761200</td>\n",
       "      <td>2015-05-18</td>\n",
       "      <td>11:52:13.997</td>\n",
       "      <td>2015-05-18 11:52:13.997</td>\n",
       "    </tr>\n",
       "    <tr>\n",
       "      <th>3</th>\n",
       "      <td>2015-05-11 10:36:01.148 UTC</td>\n",
       "      <td>126346998414</td>\n",
       "      <td>ACCEPTED</td>\n",
       "      <td>992080359113</td>\n",
       "      <td>941995970460</td>\n",
       "      <td>-2.966915</td>\n",
       "      <td>104.748040</td>\n",
       "      <td>2.000</td>\n",
       "      <td>2015-05-11 10:35:56.624 UTC</td>\n",
       "      <td>CREATED</td>\n",
       "      <td>758692050609</td>\n",
       "      <td>NaN</td>\n",
       "      <td>1.744</td>\n",
       "      <td>-2.968359</td>\n",
       "      <td>104.749344</td>\n",
       "      <td>2015-05-11</td>\n",
       "      <td>10:35:56.624</td>\n",
       "      <td>2015-05-11 10:35:56.624</td>\n",
       "    </tr>\n",
       "    <tr>\n",
       "      <th>4</th>\n",
       "      <td>2015-05-11 10:36:01.148 UTC</td>\n",
       "      <td>126346998414</td>\n",
       "      <td>ACCEPTED</td>\n",
       "      <td>992080359113</td>\n",
       "      <td>941995970460</td>\n",
       "      <td>-2.966915</td>\n",
       "      <td>104.748040</td>\n",
       "      <td>2.000</td>\n",
       "      <td>2015-05-11 10:51:50.176 UTC</td>\n",
       "      <td>COMPLETED</td>\n",
       "      <td>758692050609</td>\n",
       "      <td>1.263470e+11</td>\n",
       "      <td>1.744</td>\n",
       "      <td>-2.968359</td>\n",
       "      <td>104.749344</td>\n",
       "      <td>2015-05-11</td>\n",
       "      <td>10:51:50.176</td>\n",
       "      <td>2015-05-11 10:51:50.176</td>\n",
       "    </tr>\n",
       "    <tr>\n",
       "      <th>...</th>\n",
       "      <td>...</td>\n",
       "      <td>...</td>\n",
       "      <td>...</td>\n",
       "      <td>...</td>\n",
       "      <td>...</td>\n",
       "      <td>...</td>\n",
       "      <td>...</td>\n",
       "      <td>...</td>\n",
       "      <td>...</td>\n",
       "      <td>...</td>\n",
       "      <td>...</td>\n",
       "      <td>...</td>\n",
       "      <td>...</td>\n",
       "      <td>...</td>\n",
       "      <td>...</td>\n",
       "      <td>...</td>\n",
       "      <td>...</td>\n",
       "      <td>...</td>\n",
       "    </tr>\n",
       "    <tr>\n",
       "      <th>688131</th>\n",
       "      <td>2015-05-17 04:57:32.7 UTC</td>\n",
       "      <td>868666321781</td>\n",
       "      <td>ACCEPTED</td>\n",
       "      <td>807506644180</td>\n",
       "      <td>514465572244</td>\n",
       "      <td>-2.988325</td>\n",
       "      <td>104.763972</td>\n",
       "      <td>26.942</td>\n",
       "      <td>2015-05-17 04:57:32.838 UTC</td>\n",
       "      <td>DRIVER_FOUND</td>\n",
       "      <td>902992689982</td>\n",
       "      <td>8.686663e+11</td>\n",
       "      <td>4.386</td>\n",
       "      <td>-2.986718</td>\n",
       "      <td>104.763435</td>\n",
       "      <td>2015-05-17</td>\n",
       "      <td>04:57:32.838</td>\n",
       "      <td>2015-05-17 04:57:32.838</td>\n",
       "    </tr>\n",
       "    <tr>\n",
       "      <th>688132</th>\n",
       "      <td>2015-05-16 23:21:46.537 UTC</td>\n",
       "      <td>438082052422</td>\n",
       "      <td>ACCEPTED</td>\n",
       "      <td>368974774419</td>\n",
       "      <td>701381598248</td>\n",
       "      <td>-2.985607</td>\n",
       "      <td>104.725295</td>\n",
       "      <td>27.942</td>\n",
       "      <td>2015-05-16 23:21:44.835 UTC</td>\n",
       "      <td>CREATED</td>\n",
       "      <td>825264157781</td>\n",
       "      <td>NaN</td>\n",
       "      <td>3.166</td>\n",
       "      <td>-2.986433</td>\n",
       "      <td>104.723186</td>\n",
       "      <td>2015-05-16</td>\n",
       "      <td>23:21:44.835</td>\n",
       "      <td>2015-05-16 23:21:44.835</td>\n",
       "    </tr>\n",
       "    <tr>\n",
       "      <th>688133</th>\n",
       "      <td>2015-05-16 23:21:46.537 UTC</td>\n",
       "      <td>438082052422</td>\n",
       "      <td>ACCEPTED</td>\n",
       "      <td>368974774419</td>\n",
       "      <td>701381598248</td>\n",
       "      <td>-2.985607</td>\n",
       "      <td>104.725295</td>\n",
       "      <td>27.942</td>\n",
       "      <td>2015-05-16 23:36:12.198 UTC</td>\n",
       "      <td>COMPLETED</td>\n",
       "      <td>825264157781</td>\n",
       "      <td>4.380821e+11</td>\n",
       "      <td>3.166</td>\n",
       "      <td>-2.986433</td>\n",
       "      <td>104.723186</td>\n",
       "      <td>2015-05-16</td>\n",
       "      <td>23:36:12.198</td>\n",
       "      <td>2015-05-16 23:36:12.198</td>\n",
       "    </tr>\n",
       "    <tr>\n",
       "      <th>688134</th>\n",
       "      <td>2015-05-16 23:21:46.537 UTC</td>\n",
       "      <td>438082052422</td>\n",
       "      <td>ACCEPTED</td>\n",
       "      <td>368974774419</td>\n",
       "      <td>701381598248</td>\n",
       "      <td>-2.985607</td>\n",
       "      <td>104.725295</td>\n",
       "      <td>27.942</td>\n",
       "      <td>2015-05-16 23:26:05.133 UTC</td>\n",
       "      <td>PICKED_UP</td>\n",
       "      <td>825264157781</td>\n",
       "      <td>4.380821e+11</td>\n",
       "      <td>3.166</td>\n",
       "      <td>-2.986433</td>\n",
       "      <td>104.723186</td>\n",
       "      <td>2015-05-16</td>\n",
       "      <td>23:26:05.133</td>\n",
       "      <td>2015-05-16 23:26:05.133</td>\n",
       "    </tr>\n",
       "    <tr>\n",
       "      <th>688135</th>\n",
       "      <td>2015-05-16 23:21:46.537 UTC</td>\n",
       "      <td>438082052422</td>\n",
       "      <td>ACCEPTED</td>\n",
       "      <td>368974774419</td>\n",
       "      <td>701381598248</td>\n",
       "      <td>-2.985607</td>\n",
       "      <td>104.725295</td>\n",
       "      <td>27.942</td>\n",
       "      <td>2015-05-16 23:21:46.589 UTC</td>\n",
       "      <td>DRIVER_FOUND</td>\n",
       "      <td>825264157781</td>\n",
       "      <td>4.380821e+11</td>\n",
       "      <td>3.166</td>\n",
       "      <td>-2.986433</td>\n",
       "      <td>104.723186</td>\n",
       "      <td>2015-05-16</td>\n",
       "      <td>23:21:46.589</td>\n",
       "      <td>2015-05-16 23:21:46.589</td>\n",
       "    </tr>\n",
       "  </tbody>\n",
       "</table>\n",
       "<p>688136 rows × 18 columns</p>\n",
       "</div>"
      ],
      "text/plain": [
       "                  event_timestamp_x   driver_id_x participant_status  \\\n",
       "0         2015-05-18 11:45:29.8 UTC  110283102582           ACCEPTED   \n",
       "1         2015-05-18 11:45:29.8 UTC  110283102582           ACCEPTED   \n",
       "2         2015-05-18 11:45:29.8 UTC  110283102582           ACCEPTED   \n",
       "3       2015-05-11 10:36:01.148 UTC  126346998414           ACCEPTED   \n",
       "4       2015-05-11 10:36:01.148 UTC  126346998414           ACCEPTED   \n",
       "...                             ...           ...                ...   \n",
       "688131    2015-05-17 04:57:32.7 UTC  868666321781           ACCEPTED   \n",
       "688132  2015-05-16 23:21:46.537 UTC  438082052422           ACCEPTED   \n",
       "688133  2015-05-16 23:21:46.537 UTC  438082052422           ACCEPTED   \n",
       "688134  2015-05-16 23:21:46.537 UTC  438082052422           ACCEPTED   \n",
       "688135  2015-05-16 23:21:46.537 UTC  438082052422           ACCEPTED   \n",
       "\n",
       "            order_id  experiment_key  driver_latitude  driver_longitude  \\\n",
       "0       938125906616    309579604593        -2.981389        104.761898   \n",
       "1       938125906616    309579604593        -2.981389        104.761898   \n",
       "2       938125906616    309579604593        -2.981389        104.761898   \n",
       "3       992080359113    941995970460        -2.966915        104.748040   \n",
       "4       992080359113    941995970460        -2.966915        104.748040   \n",
       "...              ...             ...              ...               ...   \n",
       "688131  807506644180    514465572244        -2.988325        104.763972   \n",
       "688132  368974774419    701381598248        -2.985607        104.725295   \n",
       "688133  368974774419    701381598248        -2.985607        104.725295   \n",
       "688134  368974774419    701381598248        -2.985607        104.725295   \n",
       "688135  368974774419    701381598248        -2.985607        104.725295   \n",
       "\n",
       "        driver_gps_accuracy            event_timestamp_y      booking_status  \\\n",
       "0                     2.000  2015-05-18 11:45:03.958 UTC             CREATED   \n",
       "1                     2.000  2015-05-18 11:45:30.076 UTC        DRIVER_FOUND   \n",
       "2                     2.000  2015-05-18 11:52:13.997 UTC  CUSTOMER_CANCELLED   \n",
       "3                     2.000  2015-05-11 10:35:56.624 UTC             CREATED   \n",
       "4                     2.000  2015-05-11 10:51:50.176 UTC           COMPLETED   \n",
       "...                     ...                          ...                 ...   \n",
       "688131               26.942  2015-05-17 04:57:32.838 UTC        DRIVER_FOUND   \n",
       "688132               27.942  2015-05-16 23:21:44.835 UTC             CREATED   \n",
       "688133               27.942  2015-05-16 23:36:12.198 UTC           COMPLETED   \n",
       "688134               27.942  2015-05-16 23:26:05.133 UTC           PICKED_UP   \n",
       "688135               27.942  2015-05-16 23:21:46.589 UTC        DRIVER_FOUND   \n",
       "\n",
       "         customer_id   driver_id_y  trip_distance  pickup_latitude  \\\n",
       "0       786955815516           NaN          5.601        -2.980337   \n",
       "1       786955815516  1.102831e+11          5.601        -2.980337   \n",
       "2       786955815516  1.102831e+11          5.601        -2.980337   \n",
       "3       758692050609           NaN          1.744        -2.968359   \n",
       "4       758692050609  1.263470e+11          1.744        -2.968359   \n",
       "...              ...           ...            ...              ...   \n",
       "688131  902992689982  8.686663e+11          4.386        -2.986718   \n",
       "688132  825264157781           NaN          3.166        -2.986433   \n",
       "688133  825264157781  4.380821e+11          3.166        -2.986433   \n",
       "688134  825264157781  4.380821e+11          3.166        -2.986433   \n",
       "688135  825264157781  4.380821e+11          3.166        -2.986433   \n",
       "\n",
       "        pickup_longitude         day          time               timestamp  \n",
       "0             104.761200  2015-05-18  11:45:03.958 2015-05-18 11:45:03.958  \n",
       "1             104.761200  2015-05-18  11:45:30.076 2015-05-18 11:45:30.076  \n",
       "2             104.761200  2015-05-18  11:52:13.997 2015-05-18 11:52:13.997  \n",
       "3             104.749344  2015-05-11  10:35:56.624 2015-05-11 10:35:56.624  \n",
       "4             104.749344  2015-05-11  10:51:50.176 2015-05-11 10:51:50.176  \n",
       "...                  ...         ...           ...                     ...  \n",
       "688131        104.763435  2015-05-17  04:57:32.838 2015-05-17 04:57:32.838  \n",
       "688132        104.723186  2015-05-16  23:21:44.835 2015-05-16 23:21:44.835  \n",
       "688133        104.723186  2015-05-16  23:36:12.198 2015-05-16 23:36:12.198  \n",
       "688134        104.723186  2015-05-16  23:26:05.133 2015-05-16 23:26:05.133  \n",
       "688135        104.723186  2015-05-16  23:21:46.589 2015-05-16 23:21:46.589  \n",
       "\n",
       "[688136 rows x 18 columns]"
      ]
     },
     "execution_count": 95,
     "metadata": {},
     "output_type": "execute_result"
    }
   ],
   "source": [
    "merge_columns = [\"driver_id\", \"driver_latitude\", \"driver_longitude\"]\n",
    "participants_raw[participants_raw['participant_status'] == \"ACCEPTED\"].merge(bookings_raw, on = \"order_id\")"
   ]
  }
 ],
 "metadata": {
  "kernelspec": {
   "display_name": "Python 3",
   "language": "python",
   "name": "python3"
  },
  "latex_envs": {
   "LaTeX_envs_menu_present": true,
   "autoclose": false,
   "autocomplete": true,
   "bibliofile": "biblio.bib",
   "cite_by": "apalike",
   "current_citInitial": 1,
   "eqLabelWithNumbers": true,
   "eqNumInitial": 1,
   "hotkeys": {
    "equation": "Ctrl-E",
    "itemize": "Ctrl-I"
   },
   "labels_anchors": false,
   "latex_user_defs": false,
   "report_style_numbering": false,
   "user_envs_cfg": false
  },
  "toc": {
   "base_numbering": 1,
   "nav_menu": {},
   "number_sections": true,
   "sideBar": true,
   "skip_h1_title": false,
   "title_cell": "Table of Contents",
   "title_sidebar": "Contents",
   "toc_cell": false,
   "toc_position": {},
   "toc_section_display": true,
   "toc_window_display": false
  },
  "varInspector": {
   "cols": {
    "lenName": 16,
    "lenType": 16,
    "lenVar": 40
   },
   "kernels_config": {
    "python": {
     "delete_cmd_postfix": "",
     "delete_cmd_prefix": "del ",
     "library": "var_list.py",
     "varRefreshCmd": "print(var_dic_list())"
    },
    "r": {
     "delete_cmd_postfix": ") ",
     "delete_cmd_prefix": "rm(",
     "library": "var_list.r",
     "varRefreshCmd": "cat(var_dic_list()) "
    }
   },
   "types_to_exclude": [
    "module",
    "function",
    "builtin_function_or_method",
    "instance",
    "_Feature"
   ],
   "window_display": false
  }
 },
 "nbformat": 4,
 "nbformat_minor": 2
}
