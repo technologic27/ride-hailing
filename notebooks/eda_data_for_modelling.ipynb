{
 "cells": [
  {
   "cell_type": "code",
   "execution_count": 2,
   "metadata": {},
   "outputs": [],
   "source": [
    "import pandas as pd\n",
    "import matplotlib.pyplot as plt\n",
    "import seaborn as sns"
   ]
  },
  {
   "cell_type": "code",
   "execution_count": 6,
   "metadata": {},
   "outputs": [],
   "source": [
    "bookings = pd.read_csv(\"../data/interim/booking_log.csv\")\n",
    "participants = pd.read_csv(\"../data/interim/participant_log.csv\")\n",
    "data_set = pd.read_csv(\"../data/processed/dataset.csv\")"
   ]
  },
  {
   "cell_type": "code",
   "execution_count": 5,
   "metadata": {},
   "outputs": [
    {
     "data": {
      "text/html": [
       "<div>\n",
       "<style scoped>\n",
       "    .dataframe tbody tr th:only-of-type {\n",
       "        vertical-align: middle;\n",
       "    }\n",
       "\n",
       "    .dataframe tbody tr th {\n",
       "        vertical-align: top;\n",
       "    }\n",
       "\n",
       "    .dataframe thead th {\n",
       "        text-align: right;\n",
       "    }\n",
       "</style>\n",
       "<table border=\"1\" class=\"dataframe\">\n",
       "  <thead>\n",
       "    <tr style=\"text-align: right;\">\n",
       "      <th></th>\n",
       "      <th>driver_id</th>\n",
       "      <th>participant_status</th>\n",
       "      <th>order_id</th>\n",
       "      <th>experiment_key</th>\n",
       "      <th>driver_latitude</th>\n",
       "      <th>driver_longitude</th>\n",
       "      <th>driver_gps_accuracy</th>\n",
       "      <th>date</th>\n",
       "      <th>time</th>\n",
       "      <th>timestamp</th>\n",
       "    </tr>\n",
       "  </thead>\n",
       "  <tbody>\n",
       "    <tr>\n",
       "      <th>0</th>\n",
       "      <td>110283102582</td>\n",
       "      <td>CREATED</td>\n",
       "      <td>938125906616</td>\n",
       "      <td>309579604593</td>\n",
       "      <td>-2.981389</td>\n",
       "      <td>104.761898</td>\n",
       "      <td>2.0</td>\n",
       "      <td>2015-05-18</td>\n",
       "      <td>11:45:19.519</td>\n",
       "      <td>2015-05-18 11:45:19.519</td>\n",
       "    </tr>\n",
       "    <tr>\n",
       "      <th>1</th>\n",
       "      <td>110283102582</td>\n",
       "      <td>ACCEPTED</td>\n",
       "      <td>938125906616</td>\n",
       "      <td>309579604593</td>\n",
       "      <td>-2.981389</td>\n",
       "      <td>104.761898</td>\n",
       "      <td>2.0</td>\n",
       "      <td>2015-05-18</td>\n",
       "      <td>11:45:29.8</td>\n",
       "      <td>2015-05-18 11:45:29.800</td>\n",
       "    </tr>\n",
       "    <tr>\n",
       "      <th>2</th>\n",
       "      <td>126346998414</td>\n",
       "      <td>CREATED</td>\n",
       "      <td>992080359113</td>\n",
       "      <td>941995970460</td>\n",
       "      <td>-2.966915</td>\n",
       "      <td>104.748040</td>\n",
       "      <td>2.0</td>\n",
       "      <td>2015-05-11</td>\n",
       "      <td>10:35:57.021</td>\n",
       "      <td>2015-05-11 10:35:57.021</td>\n",
       "    </tr>\n",
       "    <tr>\n",
       "      <th>3</th>\n",
       "      <td>126346998414</td>\n",
       "      <td>ACCEPTED</td>\n",
       "      <td>992080359113</td>\n",
       "      <td>941995970460</td>\n",
       "      <td>-2.966915</td>\n",
       "      <td>104.748040</td>\n",
       "      <td>2.0</td>\n",
       "      <td>2015-05-11</td>\n",
       "      <td>10:36:01.148</td>\n",
       "      <td>2015-05-11 10:36:01.148</td>\n",
       "    </tr>\n",
       "    <tr>\n",
       "      <th>4</th>\n",
       "      <td>199325048812</td>\n",
       "      <td>ACCEPTED</td>\n",
       "      <td>797723880713</td>\n",
       "      <td>197604093364</td>\n",
       "      <td>-3.014740</td>\n",
       "      <td>104.694647</td>\n",
       "      <td>2.0</td>\n",
       "      <td>2015-05-16</td>\n",
       "      <td>12:34:20.044</td>\n",
       "      <td>2015-05-16 12:34:20.044</td>\n",
       "    </tr>\n",
       "  </tbody>\n",
       "</table>\n",
       "</div>"
      ],
      "text/plain": [
       "      driver_id participant_status      order_id  experiment_key  \\\n",
       "0  110283102582            CREATED  938125906616    309579604593   \n",
       "1  110283102582           ACCEPTED  938125906616    309579604593   \n",
       "2  126346998414            CREATED  992080359113    941995970460   \n",
       "3  126346998414           ACCEPTED  992080359113    941995970460   \n",
       "4  199325048812           ACCEPTED  797723880713    197604093364   \n",
       "\n",
       "   driver_latitude  driver_longitude  driver_gps_accuracy        date  \\\n",
       "0        -2.981389        104.761898                  2.0  2015-05-18   \n",
       "1        -2.981389        104.761898                  2.0  2015-05-18   \n",
       "2        -2.966915        104.748040                  2.0  2015-05-11   \n",
       "3        -2.966915        104.748040                  2.0  2015-05-11   \n",
       "4        -3.014740        104.694647                  2.0  2015-05-16   \n",
       "\n",
       "           time                timestamp  \n",
       "0  11:45:19.519  2015-05-18 11:45:19.519  \n",
       "1    11:45:29.8  2015-05-18 11:45:29.800  \n",
       "2  10:35:57.021  2015-05-11 10:35:57.021  \n",
       "3  10:36:01.148  2015-05-11 10:36:01.148  \n",
       "4  12:34:20.044  2015-05-16 12:34:20.044  "
      ]
     },
     "execution_count": 5,
     "metadata": {},
     "output_type": "execute_result"
    }
   ],
   "source": [
    "participants.head()"
   ]
  },
  {
   "cell_type": "code",
   "execution_count": 4,
   "metadata": {},
   "outputs": [
    {
     "data": {
      "text/plain": [
       "array(['CREATED', 'ACCEPTED', 'IGNORED', 'REJECTED'], dtype=object)"
      ]
     },
     "execution_count": 4,
     "metadata": {},
     "output_type": "execute_result"
    }
   ],
   "source": [
    "participants['participant_status'].unique()"
   ]
  },
  {
   "cell_type": "code",
   "execution_count": 14,
   "metadata": {},
   "outputs": [],
   "source": [
    "group_participants = participants.sort_values(['driver_id', 'order_id', 'timestamp']).groupby(['driver_id', 'order_id'])\n"
   ]
  },
  {
   "cell_type": "code",
   "execution_count": 7,
   "metadata": {},
   "outputs": [],
   "source": [
    "data_set['timestamp'] = pd.to_datetime(data_set['timestamp'])\n"
   ]
  },
  {
   "cell_type": "code",
   "execution_count": null,
   "metadata": {},
   "outputs": [],
   "source": [
    "def _duration(df, start, end, name):\n",
    "\n",
    "    df['timestamp'] = pd.to_datetime(df['timestamp'])\n",
    "    df['time_diff'] = df.sort_values(['order_id', 'timestamp']).groupby('order_id')[\n",
    "        'timestamp'].diff()\n",
    "    g = df.groupby('order_id')\n",
    "    duration = g.apply(lambda x: sum(x[x['booking_status'] == start]['time_diff'], x[\n",
    "                       x['booking_status'] == end]['time_diff']) / np.timedelta64(1, 'm'))\n",
    "    duration_df = duration.reset_index()\n",
    "    df = df.merge(duration_df, on='order_id')\n",
    "    df.drop(['level_1'], axis=1, inplace=True)\n",
    "    df.rename(columns={\"time_diff_y\": name}, inplace=True)\n",
    "    return df\n",
    "\n",
    "def compute_distances(d_lat, d_lng, p_lat, p_lng):\n",
    "    rad_lat, rad_lng, rad_pt_lat, rad_pt_lng = map(\n",
    "        np.radians, [d_lat, d_lng, p_lat, p_lng]\n",
    "    )\n",
    "    dlng = rad_lng - rad_pt_lng\n",
    "    dlat = rad_lat - rad_pt_lat\n",
    "    a = np.sin(dlat / 2.0) ** 2 + np.cos(rad_lat) * np.cos(rad_pt_lat) \\\n",
    "        * np.sin(dlng / 2.0) ** 2\n",
    "    c = 2 * np.arcsin(np.sqrt(a))\n",
    "    return c"
   ]
  },
  {
   "cell_type": "code",
   "execution_count": 117,
   "metadata": {},
   "outputs": [],
   "source": [
    "dataset = _duration(dataset, 'PICKED_UP', 'COMPLETED', 'mean_dropoff')"
   ]
  },
  {
   "cell_type": "code",
   "execution_count": 110,
   "metadata": {},
   "outputs": [],
   "source": [
    "new_data_set = data_set.merge(dataset[['order_id', 'mean_dropoff']], on = 'order_id')"
   ]
  },
  {
   "cell_type": "code",
   "execution_count": 112,
   "metadata": {},
   "outputs": [],
   "source": [
    "dedup = new_data_set.drop_duplicates(['order_id', 'driver_id_pnt'])"
   ]
  },
  {
   "cell_type": "code",
   "execution_count": 126,
   "metadata": {},
   "outputs": [
    {
     "name": "stderr",
     "output_type": "stream",
     "text": [
      "/Users/estherdawes/anaconda3/lib/python3.6/site-packages/ipykernel_launcher.py:1: SettingWithCopyWarning: \n",
      "A value is trying to be set on a copy of a slice from a DataFrame.\n",
      "Try using .loc[row_indexer,col_indexer] = value instead\n",
      "\n",
      "See the caveats in the documentation: http://pandas.pydata.org/pandas-docs/stable/indexing.html#indexing-view-versus-copy\n",
      "  \"\"\"Entry point for launching an IPython kernel.\n"
     ]
    }
   ],
   "source": [
    "dedup['travel_dist'] = compute_distances(dedup['pickup_latitude'], dedup['pickup_longitude'],\\\n",
    "                                                        dedup['driver_latitude'], dedup['driver_longitude'])"
   ]
  },
  {
   "cell_type": "code",
   "execution_count": 135,
   "metadata": {},
   "outputs": [
    {
     "name": "stderr",
     "output_type": "stream",
     "text": [
      "/Users/estherdawes/anaconda3/lib/python3.6/site-packages/ipykernel_launcher.py:1: SettingWithCopyWarning: \n",
      "A value is trying to be set on a copy of a slice from a DataFrame.\n",
      "Try using .loc[row_indexer,col_indexer] = value instead\n",
      "\n",
      "See the caveats in the documentation: http://pandas.pydata.org/pandas-docs/stable/indexing.html#indexing-view-versus-copy\n",
      "  \"\"\"Entry point for launching an IPython kernel.\n"
     ]
    }
   ],
   "source": [
    "dedup['travel_time'] = dedup['mean_dropoff']"
   ]
  },
  {
   "cell_type": "code",
   "execution_count": 137,
   "metadata": {},
   "outputs": [
    {
     "name": "stderr",
     "output_type": "stream",
     "text": [
      "/Users/estherdawes/anaconda3/lib/python3.6/site-packages/ipykernel_launcher.py:1: SettingWithCopyWarning: \n",
      "A value is trying to be set on a copy of a slice from a DataFrame.\n",
      "Try using .loc[row_indexer,col_indexer] = value instead\n",
      "\n",
      "See the caveats in the documentation: http://pandas.pydata.org/pandas-docs/stable/indexing.html#indexing-view-versus-copy\n",
      "  \"\"\"Entry point for launching an IPython kernel.\n"
     ]
    }
   ],
   "source": [
    "dedup['average_speed'] = 1000 * dedup['trip_distance']/dedup['travel_time']"
   ]
  },
  {
   "cell_type": "code",
   "execution_count": 139,
   "metadata": {},
   "outputs": [
    {
     "name": "stderr",
     "output_type": "stream",
     "text": [
      "/Users/estherdawes/anaconda3/lib/python3.6/site-packages/ipykernel_launcher.py:1: SettingWithCopyWarning: \n",
      "A value is trying to be set on a copy of a slice from a DataFrame.\n",
      "Try using .loc[row_indexer,col_indexer] = value instead\n",
      "\n",
      "See the caveats in the documentation: http://pandas.pydata.org/pandas-docs/stable/indexing.html#indexing-view-versus-copy\n",
      "  \"\"\"Entry point for launching an IPython kernel.\n",
      "/Users/estherdawes/anaconda3/lib/python3.6/site-packages/ipykernel_launcher.py:2: SettingWithCopyWarning: \n",
      "A value is trying to be set on a copy of a slice from a DataFrame.\n",
      "Try using .loc[row_indexer,col_indexer] = value instead\n",
      "\n",
      "See the caveats in the documentation: http://pandas.pydata.org/pandas-docs/stable/indexing.html#indexing-view-versus-copy\n",
      "  \n",
      "/Users/estherdawes/anaconda3/lib/python3.6/site-packages/ipykernel_launcher.py:3: SettingWithCopyWarning: \n",
      "A value is trying to be set on a copy of a slice from a DataFrame.\n",
      "Try using .loc[row_indexer,col_indexer] = value instead\n",
      "\n",
      "See the caveats in the documentation: http://pandas.pydata.org/pandas-docs/stable/indexing.html#indexing-view-versus-copy\n",
      "  This is separate from the ipykernel package so we can avoid doing imports until\n",
      "/Users/estherdawes/anaconda3/lib/python3.6/site-packages/ipykernel_launcher.py:4: SettingWithCopyWarning: \n",
      "A value is trying to be set on a copy of a slice from a DataFrame.\n",
      "Try using .loc[row_indexer,col_indexer] = value instead\n",
      "\n",
      "See the caveats in the documentation: http://pandas.pydata.org/pandas-docs/stable/indexing.html#indexing-view-versus-copy\n",
      "  after removing the cwd from sys.path.\n"
     ]
    }
   ],
   "source": [
    "dedup['pickup_weekday'] = dedup['timestamp'].dt.weekday\n",
    "dedup['pickup_hour_weekofyear'] = dedup['timestamp'].dt.weekofyear\n",
    "dedup['pickup_hour'] = dedup['timestamp'].dt.hour\n",
    "dedup['pickup_minute'] = dedup['timestamp'].dt.minute"
   ]
  },
  {
   "cell_type": "code",
   "execution_count": 145,
   "metadata": {},
   "outputs": [
    {
     "data": {
      "image/png": "[encoded data removed]",
      "text/plain": [
       "<Figure size 432x288 with 2 Axes>"
      ]
     },
     "metadata": {},
     "output_type": "display_data"
    }
   ],
   "source": [
    "fig, ax = plt.subplots(ncols=2, sharey=True)\n",
    "ax[0].plot(dedup.groupby('pickup_hour').mean()['average_speed'], 'bo-', lw=2, alpha=0.7)\n",
    "ax[1].plot(dedup.groupby('pickup_weekday').mean()['average_speed'], 'go-', lw=2, alpha=0.7)\n",
    "ax[0].set_xlabel('hour')\n",
    "ax[1].set_xlabel('weekday')\n",
    "ax[0].set_ylabel('average speed')\n",
    "fig.suptitle('Rush hour average traffic speed')\n",
    "plt.show()"
   ]
  }
 ],
 "metadata": {
  "kernelspec": {
   "display_name": "Python 3",
   "language": "python",
   "name": "python3"
  },
  "language_info": {
   "codemirror_mode": {
    "name": "ipython",
    "version": 3
   },
   "file_extension": ".py",
   "mimetype": "text/x-python",
   "name": "python",
   "nbconvert_exporter": "python",
   "pygments_lexer": "ipython3",
   "version": "3.6.5"
  },
  "latex_envs": {
   "LaTeX_envs_menu_present": true,
   "autoclose": false,
   "autocomplete": true,
   "bibliofile": "biblio.bib",
   "cite_by": "apalike",
   "current_citInitial": 1,
   "eqLabelWithNumbers": true,
   "eqNumInitial": 1,
   "hotkeys": {
    "equation": "Ctrl-E",
    "itemize": "Ctrl-I"
   },
   "labels_anchors": false,
   "latex_user_defs": false,
   "report_style_numbering": false,
   "user_envs_cfg": false
  },
  "toc": {
   "base_numbering": 1,
   "nav_menu": {},
   "number_sections": true,
   "sideBar": true,
   "skip_h1_title": false,
   "title_cell": "Table of Contents",
   "title_sidebar": "Contents",
   "toc_cell": false,
   "toc_position": {},
   "toc_section_display": true,
   "toc_window_display": false
  },
  "varInspector": {
   "cols": {
    "lenName": 16,
    "lenType": 16,
    "lenVar": 40
   },
   "kernels_config": {
    "python": {
     "delete_cmd_postfix": "",
     "delete_cmd_prefix": "del ",
     "library": "var_list.py",
     "varRefreshCmd": "print(var_dic_list())"
    },
    "r": {
     "delete_cmd_postfix": ") ",
     "delete_cmd_prefix": "rm(",
     "library": "var_list.r",
     "varRefreshCmd": "cat(var_dic_list()) "
    }
   },
   "types_to_exclude": [
    "module",
    "function",
    "builtin_function_or_method",
    "instance",
    "_Feature"
   ],
   "window_display": false
  }
 },
 "nbformat": 4,
 "nbformat_minor": 2
}
